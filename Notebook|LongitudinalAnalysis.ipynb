{
 "cells": [
  {
   "cell_type": "markdown",
   "metadata": {},
   "source": [
    "# Longitudinal Analysis in FreeSurfer with Single Subject\n",
    "\n",
    "\n",
    "## The Experiment\n",
    "Structural MR images were collected from a single subject in a baseline condition and a dehydrated condition. The subject drank 3 L of water before the baseline scan and abstained from hydration before bed for 10 hours prior to next morning's follow up scan. We predicted cortical thickness should decrease with dehydration.  This jupyter notebook takes you through the process for testing this hypothesis.\n"
   ]
  },
  {
   "cell_type": "markdown",
   "metadata": {},
   "source": [
    "## Analysis Pipeline\n",
    "\n",
    "### 1. Base template creation\n",
    "```bash\n",
    "ls ${SUBJECTS_DIR} # first confirm subjects dir points to right place\n",
    "recon-all -base sub.01.base -tp sub.01.bl.01 -tp sub.01.dh.02 -all -parallel\n",
    "```\n",
    "### 2. Edit the base template\n",
    "\n",
    "```bash\n",
    "~/Surfer/gems/launchfv -s sub.01.base\n",
    "```\n",
    "\n",
    "### 3. Recreate pial surfaces after edits\n",
    "\n",
    "```bash\n",
    "recon-all -autorecon-pial -base sub.01.base -tp sub.01.bl.01 -tp sub.01.dh.02 -parallel\n",
    "```\n",
    "\n",
    "### 4. Make sure everything looks good!\n",
    "```bash\n",
    "~/Surfer/gems/launchfv -s sub.01.base\n",
    "```\n",
    "\n",
    "### 5. Generate the individual time points\n",
    "\n",
    "```bash\n",
    "recon-all -long sub.01.bl.01 sub.01.base -all -qcache -measure thickness -fwhm 7\n",
    "recon-all -long sub.01.dh.02 sub.01.base -all -qcache -measure thickness -fwhm 7\n",
    "```\n",
    "\n",
    "### 6. Calculate the thickness difference on the surface\n",
    "\n",
    "```bash\n",
    "mris_thickness_diff -trg_type curv -out $(pwd)/lh.thickness_diff fsaverage/surf/lh.inflated sub.01.dh.02.long.sub.01.base.03/surf/lh.thickness.fwhm7.fsaverage.mgh fsaverage/surf/lh.inflated sub.01.bl.01.long.sub.01.base.03/surf/lh.thickness.fwhm7.fsaverage.mgh\n",
    "\n",
    "mris_thickness_diff -trg_type curv -out $(pwd)/rh.thickness_diff fsaverage/surf/rh.inflated sub.01.dh.02.long.sub.01.base.03/surf/rh.thickness.fwhm7.fsaverage.mgh fsaverage/surf/rh.inflated sub.01.bl.01.long.sub.01.base.03/surf/rh.thickness.fwhm7.fsaverage.mgh\n",
    "\n",
    "```\n",
    "## Now you are ready to view the results! Does it look like what you would expect?\n",
    "![left](fs/dehydrated-baseline_sub01000.png)\n",
    "![right](fs/dehydrated-baseline_sub01002.png)\n",
    "![anterior](fs/dehydrated-baseline_sub01003.png)\n",
    "![posterior](fs/dehydrated-baseline_sub01001.png)"
   ]
  },
  {
   "cell_type": "markdown",
   "metadata": {},
   "source": [
    "### Ok, does this even mean anything? I dont know how to interpret this\n",
    "Ok well it seems that there is a lot of noise from scan to scan and that any differences in the cortical sheet could be due to the algorithm, the image quality or other natural variations in physiology that have nothing to do with our experiment.  This is usually why we do group studies and look at averages across many subjects in order to cancel out as much noise as possible.\n",
    "\n",
    "Let's try looking at some of the volumetric structures below the cortical sheet as these may be more sensitive to chances in hydration (i.e. ventricle size)."
   ]
  },
  {
   "cell_type": "code",
   "execution_count": 25,
   "metadata": {
    "collapsed": false
   },
   "outputs": [
    {
     "name": "stdout",
     "output_type": "stream",
     "text": [
      "Runtime error (func=(main), adr=16): Divide by zero\n",
      "(standard_in) 1: parse error\n",
      "\n",
      "----------------\n",
      "Aseg Stats Diff:\n",
      "subject1: sub.01.bl.01.long.sub.01.base.03, subject2: sub.01.dh.02.long.sub.01.base.03\n",
      "% diff:    label:   (subject1:value, subject2:value)\n",
      "-------    -----------------------------------------\n",
      "-10.2800    WM-hypointensities   (s1: 301.3, s2: 270.3)\n",
      "-5.9300    Right-Accumbens-area   (s1: 772.8, s2: 726.9)\n",
      "-4.3200    Left-Accumbens-area   (s1: 428.1, s2: 409.6)\n",
      "-3.6900    CC_Mid_Posterior   (s1: 582.5, s2: 561.0)\n",
      "-2.6800    Right-Cerebellum-White-Matter   (s1: 14009.5, s2: 13632.9)\n",
      "-2.5700    CC_Central   (s1: 523.8, s2: 510.3)\n",
      "-2.3500    Left-Hippocampus   (s1: 4779.7, s2: 4667.1)\n",
      "-2.2900    Right-Thalamus-Proper   (s1: 7820.8, s2: 7641.5)\n",
      "-2.1800    Left-Cerebellum-White-Matter   (s1: 15865.3, s2: 15519.1)\n",
      "-1.9400    Brain-Stem   (s1: 22902.1, s2: 22455.9)\n",
      "-1.8200    Left-Caudate   (s1: 4331.0, s2: 4251.8)\n",
      "-1.5500    Right-Hippocampus   (s1: 4637.3, s2: 4565.2)\n",
      "-1.4600    Left-Pallidum   (s1: 2131.5, s2: 2100.3)\n",
      "-1.4100    Right-Amygdala   (s1: 1833.8, s2: 1807.8)\n",
      "-1.4100    Right-VentralDC   (s1: 4476.1, s2: 4412.7)\n",
      "-1.3900    rhCortexVol   (s1: 229238.817251, s2: 226037.202834)\n",
      "-1.3800    CC_Anterior   (s1: 976.4, s2: 962.9)\n",
      "-1.3400    Left-Putamen   (s1: 5415.6, s2: 5342.5)\n",
      "-1.3200    SubCortGrayVol   (s1: 64682.0, s2: 63822.0)\n",
      "-1.2000    CortexVol   (s1: 459655.875845, s2: 454096.546712)\n",
      "-1.1400    TotalGrayVol   (s1: 642454.875845, s2: 635107.546712)\n",
      "-1.0700    rhCerebralWhiteMatterVol   (s1: 204393.007367, s2: 202202.973422)\n",
      "-1.0600    Left-Cerebellum-Cortex   (s1: 58109.6, s2: 57493.4)\n",
      "-1.0300    Right-Caudate   (s1: 4432.9, s2: 4387.1)\n",
      "-1.0200    lhCortexVol   (s1: 230417.058594, s2: 228059.343878)\n",
      "-.9200    BrainSegVolNotVentSurf   (s1: 1082500.60061, s2: 1072467.31889)\n",
      "-.9200    Left-VentralDC   (s1: 4593.9, s2: 4551.6)\n",
      "-.9200    SupraTentorialVolNotVent   (s1: 938673.600606, s2: 930020.318886)\n",
      "-.9000    BrainSegVolNotVent   (s1: 1082595.0, s2: 1072836.0)\n",
      "-.8600    SupraTentorialVolNotVentVox   (s1: 935519.0, s2: 927396.0)\n",
      "-.8200    SupraTentorialVol   (s1: 950576.600606, s2: 942776.318886)\n",
      "-.7900    BrainSegVol   (s1: 1097816.0, s2: 1089136.0)\n",
      "-.7900    BrainSegVol-to-eTIV   (s1: 0.811007, s2: 0.804594)\n",
      "-.6300    Left-Thalamus-Proper   (s1: 7739.4, s2: 7690.1)\n",
      "-.4800    CerebralWhiteMatterVol   (s1: 411129.724761, s2: 409145.772174)\n",
      "-.4700    Right-Cerebellum-Cortex   (s1: 59137.8, s2: 58855.2)\n",
      "-.4200    Right-Pallidum   (s1: 2235.9, s2: 2226.5)\n",
      "-.0500    Right-Putamen   (s1: 5389.6, s2: 5386.8)\n",
      "0    MaskVol   (s1: 1511657.0, s2: 1511797.0)\n",
      "0    MaskVol-to-eTIV   (s1: 1.11673, s2: 1.116833)\n",
      "    5th-Ventricle   (s1: 0.0, s2: 6.7)\n",
      ".0900    lhCerebralWhiteMatterVol   (s1: 206736.717394, s2: 206942.798752)\n",
      ".1600    CC_Posterior   (s1: 917.3, s2: 918.8)\n",
      ".3000    CC_Mid_Anterior   (s1: 585.4, s2: 587.2)\n",
      ".4000    Right-vessel   (s1: 99.2, s2: 99.6)\n",
      ".5100    Left-Amygdala   (s1: 1862.5, s2: 1872.1)\n",
      "4.8800    Right-choroid-plexus   (s1: 829.5, s2: 870.0)\n",
      "6.2600    CSF   (s1: 799.7, s2: 849.8)\n",
      "6.3800    Right-Lateral-Ventricle   (s1: 6252.6, s2: 6651.8)\n",
      "6.6500    4th-Ventricle   (s1: 1838.2, s2: 1960.5)\n",
      "7.1100    Left-Lateral-Ventricle   (s1: 4325.5, s2: 4633.1)\n",
      "7.5100    Optic-Chiasm   (s1: 200.8, s2: 215.9)\n",
      "9.0000    3rd-Ventricle   (s1: 733.8, s2: 799.9)\n",
      "9.4100    Left-Inf-Lat-Vent   (s1: 142.3, s2: 155.7)\n",
      "13.1200    Left-vessel   (s1: 86.1, s2: 97.4)\n",
      "14.0900    Left-choroid-plexus   (s1: 691.5, s2: 789.0)\n",
      "47.8500    Right-Inf-Lat-Vent   (s1: 88.4, s2: 130.7)\n",
      "100.0000    non-WM-hypointensities   (s1: 1.0, s2: 2.0)\n"
     ]
    }
   ],
   "source": [
    "# Make sure you are using python 2 or this command won't work\n",
    "asegstatsdiff sub.01.bl.01.long.sub.01.base.03 sub.01.dh.02.long.sub.01.base.03 | sed 's/\\\\t/  /g'\n"
   ]
  },
  {
   "cell_type": "markdown",
   "metadata": {},
   "source": [
    "## It appears that over all CSF volume increased from day 1 to day 2. Any possible explanations for this? (Hint: aquaporins)"
   ]
  },
  {
   "cell_type": "code",
   "execution_count": null,
   "metadata": {
    "collapsed": true
   },
   "outputs": [],
   "source": []
  }
 ],
 "metadata": {
  "kernelspec": {
   "display_name": "Bash",
   "language": "bash",
   "name": "bash"
  },
  "language_info": {
   "codemirror_mode": "shell",
   "file_extension": ".sh",
   "mimetype": "text/x-sh",
   "name": "bash"
  }
 },
 "nbformat": 4,
 "nbformat_minor": 0
}
